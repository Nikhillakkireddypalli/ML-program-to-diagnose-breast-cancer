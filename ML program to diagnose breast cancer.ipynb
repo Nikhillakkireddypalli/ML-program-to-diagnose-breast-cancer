{
 "cells": [
  {
   "cell_type": "code",
   "execution_count": 2,
   "id": "936ec497",
   "metadata": {},
   "outputs": [
    {
     "name": "stderr",
     "output_type": "stream",
     "text": [
      "C:\\Users\\13312\\anaconda3\\Lib\\site-packages\\sklearn\\model_selection\\_validation.py:425: FitFailedWarning: \n",
      "100 fits failed out of a total of 250.\n",
      "The score on these train-test partitions for these parameters will be set to nan.\n",
      "If these failures are not expected, you can try to debug them by setting error_score='raise'.\n",
      "\n",
      "Below are more details about the failures:\n",
      "--------------------------------------------------------------------------------\n",
      "100 fits failed with the following error:\n",
      "Traceback (most recent call last):\n",
      "  File \"C:\\Users\\13312\\anaconda3\\Lib\\site-packages\\sklearn\\model_selection\\_validation.py\", line 732, in _fit_and_score\n",
      "    estimator.fit(X_train, y_train, **fit_params)\n",
      "  File \"C:\\Users\\13312\\anaconda3\\Lib\\site-packages\\sklearn\\base.py\", line 1144, in wrapper\n",
      "    estimator._validate_params()\n",
      "  File \"C:\\Users\\13312\\anaconda3\\Lib\\site-packages\\sklearn\\base.py\", line 637, in _validate_params\n",
      "    validate_parameter_constraints(\n",
      "  File \"C:\\Users\\13312\\anaconda3\\Lib\\site-packages\\sklearn\\utils\\_param_validation.py\", line 95, in validate_parameter_constraints\n",
      "    raise InvalidParameterError(\n",
      "sklearn.utils._param_validation.InvalidParameterError: The 'max_features' parameter of RandomForestClassifier must be an int in the range [1, inf), a float in the range (0.0, 1.0], a str among {'sqrt', 'log2'} or None. Got 'auto' instead.\n",
      "\n",
      "  warnings.warn(some_fits_failed_message, FitFailedWarning)\n",
      "C:\\Users\\13312\\anaconda3\\Lib\\site-packages\\sklearn\\model_selection\\_search.py:976: UserWarning: One or more of the test scores are non-finite: [0.93212025 0.93968354 0.94471519 0.94971519 0.9296519         nan\n",
      " 0.9296519         nan        nan 0.94474684        nan        nan\n",
      " 0.9346519  0.93718354        nan 0.94468354 0.9371519         nan\n",
      "        nan 0.93718354 0.93721519        nan 0.92968354        nan\n",
      "        nan 0.93971519 0.93968354 0.93718354 0.9371519  0.9296519\n",
      "        nan        nan 0.93718354        nan 0.94971519 0.94218354\n",
      " 0.9321519  0.9321519  0.93218354 0.93718354 0.94218354        nan\n",
      "        nan 0.93721519        nan        nan 0.9296519         nan\n",
      "        nan 0.9321519 ]\n",
      "  warnings.warn(\n"
     ]
    },
    {
     "name": "stdout",
     "output_type": "stream",
     "text": [
      "Best parameters found by random search: {'n_estimators': 172, 'min_samples_split': 7, 'min_samples_leaf': 6, 'max_features': 'log2', 'max_depth': 8}\n",
      "Mean cross-validation accuracy: 0.9446835443037974\n",
      "Accuracy on test set: 0.9707602339181286\n",
      "Classification report:\n",
      "               precision    recall  f1-score   support\n",
      "\n",
      "           0       0.98      0.94      0.96        63\n",
      "           1       0.96      0.99      0.98       108\n",
      "\n",
      "    accuracy                           0.97       171\n",
      "   macro avg       0.97      0.96      0.97       171\n",
      "weighted avg       0.97      0.97      0.97       171\n",
      "\n",
      "Sensitivity: 0.9907407407407407\n",
      "Specificity: 0.9365079365079365\n"
     ]
    }
   ],
   "source": [
    "from sklearn import datasets\n",
    "from sklearn.model_selection import train_test_split, RandomizedSearchCV, cross_val_score\n",
    "from sklearn.ensemble import RandomForestClassifier\n",
    "from sklearn.metrics import accuracy_score, classification_report\n",
    "import numpy as np\n",
    "\n",
    "cancer = datasets.load_breast_cancer()\n",
    "\n",
    "X_train, X_test, y_train, y_test = train_test_split(cancer.data, cancer.target, test_size=0.3, random_state=42)\n",
    "\n",
    "# Define hyperparameters distributions using numpy.random.randint\n",
    "param_distributions = {\n",
    "    'n_estimators': np.random.randint(10, 200, size=50),\n",
    "    'max_depth': np.random.randint(3, 10, size=50),\n",
    "    'min_samples_split': np.random.randint(2, 20, size=50),\n",
    "    'min_samples_leaf': np.random.randint(1, 20, size=50),\n",
    "    'max_features': ['auto', 'sqrt', 'log2']\n",
    "}\n",
    "\n",
    "rf_classifier = RandomForestClassifier()\n",
    "\n",
    "random_search = RandomizedSearchCV(rf_classifier, param_distributions, n_iter=50, cv=5, random_state=42)\n",
    "random_search.fit(X_train, y_train)\n",
    "\n",
    "print(\"Best parameters found by random search:\", random_search.best_params_)\n",
    "\n",
    "cv_scores = cross_val_score(random_search.best_estimator_, X_train, y_train, cv=5)\n",
    "print(\"Mean cross-validation accuracy:\", cv_scores.mean())\n",
    "\n",
    "y_pred = random_search.predict(X_test)\n",
    "test_accuracy = accuracy_score(y_test, y_pred)\n",
    "print(\"Accuracy on test set:\", test_accuracy)\n",
    "print(\"Classification report:\\n\", classification_report(y_test, y_pred))\n",
    "\n",
    "# Calculate sensitivity and specificity\n",
    "report = classification_report(y_test, y_pred, output_dict=True)\n",
    "sensitivity = report['1']['recall']\n",
    "specificity = report['0']['recall']\n",
    "print(\"Sensitivity:\", sensitivity)\n",
    "print(\"Specificity:\", specificity)\n"
   ]
  },
  {
   "cell_type": "code",
   "execution_count": null,
   "id": "cc60f1a9",
   "metadata": {},
   "outputs": [],
   "source": []
  }
 ],
 "metadata": {
  "kernelspec": {
   "display_name": "Python 3 (ipykernel)",
   "language": "python",
   "name": "python3"
  },
  "language_info": {
   "codemirror_mode": {
    "name": "ipython",
    "version": 3
   },
   "file_extension": ".py",
   "mimetype": "text/x-python",
   "name": "python",
   "nbconvert_exporter": "python",
   "pygments_lexer": "ipython3",
   "version": "3.11.4"
  }
 },
 "nbformat": 4,
 "nbformat_minor": 5
}
